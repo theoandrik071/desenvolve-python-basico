{
  "metadata": {
    "kernelspec": {
      "name": "python",
      "display_name": "Python (Pyodide)",
      "language": "python"
    },
    "language_info": {
      "codemirror_mode": {
        "name": "python",
        "version": 3
      },
      "file_extension": ".py",
      "mimetype": "text/x-python",
      "name": "python",
      "nbconvert_exporter": "python",
      "pygments_lexer": "ipython3",
      "version": "3.8"
    }
  },
  "nbformat_minor": 5,
  "nbformat": 4,
  "cells": [
    {
      "id": "cbdff5a5",
      "cell_type": "markdown",
      "source": "# Módulo 5 - Funções\n\n## Aulas 5.2 - Funções Customizadas e 5.4 Funções ```lambda```",
      "metadata": {}
    },
    {
      "id": "28a3fee2",
      "cell_type": "markdown",
      "source": "### Q1.\n\n- Sabendo que o código a seguir calcula o fatorial de n, escreva uma função chamada ```fatorial()``` que recebe um inteiro ```n``` como parâmetro e retorna o resultado do fatorial de ```n```. \n- No programa principal, peça ao usuário o valor de ```n```, chame a sua função e imprima o retorno.\n\n```python\nfat = 1\nfor i in range(1, n+1):\n    fat *= i \n```",
      "metadata": {}
    },
    {
      "id": "d126b3a5",
      "cell_type": "code",
      "source": "## Crie aqui a função fatorial()\n## lembre-se de executar a célula para que \n## a função passe a existir e possa ser chamada\nfatorial(n):\nfat = 1\nfor i in range(1, n+1):\n    fat *= i\nreturn fat",
      "metadata": {},
      "outputs": [],
      "execution_count": null
    },
    {
      "id": "6e4fe64e",
      "cell_type": "code",
      "source": "## Escreva aqui o programa principal e execute a célula\nn = int(input(\"Digite um numero: \"))\nvalor = fatorial(n)\nprint(f\"O fatorial de {n} é {valor}\")",
      "metadata": {},
      "outputs": [],
      "execution_count": null
    },
    {
      "id": "c0a1f599",
      "cell_type": "markdown",
      "source": "### Q2.\n\n- Escreva uma função em Python chamada ```soma_quadrados``` que recebe dois números como parâmetros e retorna a soma dos seus quadrados. \n- No programa principal solicite ao usuário que insira dois números e utilize a função para exibir a soma dos quadrados.",
      "metadata": {}
    },
    {
      "id": "6dbddaad",
      "cell_type": "code",
      "source": "## Crie aqui a função soma_quadrados()\ndef soma_quadrados(a, b):\n    return a ** 2 + b ** 2",
      "metadata": {},
      "outputs": [],
      "execution_count": null
    },
    {
      "id": "9175a7da",
      "cell_type": "code",
      "source": "## Escreva aqui o programa principal e execute a célula\nn1 = float(input(\"Digite o primeiro numero: \"))\nn2 = float(input(\"Digite o segundo numero: \"))\nvalor = soma_quadrados(n1, n2)\nprint(f\"A raiz quadrada de {n1} e {n2} é {valor}\")",
      "metadata": {},
      "outputs": [],
      "execution_count": null
    },
    {
      "id": "6ba34ce0",
      "cell_type": "markdown",
      "source": "### Q3.\n\n- Crie uma função em Python chamada ```soma_digitos``` que recebe um número inteiro como parâmetro e retorna a soma dos seus dígitos. Por exemplo, para o número 123, a função deve retornar 6, $(1 + 2 + 3)$.\n    - O desafio aqui é separar os dígitos de um número inteiro usando operações aritméticas <br> <br>\n\n- No programa principal solicite ao usuário que insira um número e utilize a função ```soma_digitos``` para calcular e exibir a soma dos seus dígitos.",
      "metadata": {}
    },
    {
      "id": "34838ebf",
      "cell_type": "code",
      "source": "## Crie aqui a função soma_digitos()\ndef soma_digitos(n):\n    soma = 0\n    n = abs(n)\n    while n > 0:\n        digito = n % 10\n        soma += digito\n        n = n // 10\n    return soma",
      "metadata": {},
      "outputs": [],
      "execution_count": null
    },
    {
      "id": "27c35b21",
      "cell_type": "code",
      "source": "## Escreva aqui o programa principal e execute a célula\nnumero = int(input(\"Digite um numero: \"))\nvalor = soma_digitos(numero)\nprint(f\"A soma dos digitos de {numero} é {valor}\")",
      "metadata": {},
      "outputs": [],
      "execution_count": null
    },
    {
      "id": "c318b159",
      "cell_type": "markdown",
      "source": "### Q4.\n\n- Crie a função ```inverteValor()``` que recebe um inteiro de qualquer tamanho e retorna esse valor invertido usando apenas operações aritméticas\n- Crie a função ```verificaInverso()``` que recebe o valor original e o valor invertido e retorna verdadeiro se ambos forem igualmente par ou igualmente ímpar. Retorne falso caso contrário.\n- No programa principal, peça um valor do usuário e imprima o retorno de ambas as funções.\n",
      "metadata": {}
    },
    {
      "id": "e4e47d1d",
      "cell_type": "code",
      "source": "## Crie aqui as funções inverteValor() e verificaInverso()\ndef inverteValor(n):\n    invertido = 0\n    n_abs = abs(n)\n    while n_abs > 0:\n        invertido = invertido * 10 + n_abs % 10\n        n_abs = n_abs // 10\n    return -invertido if n < 0 else invertido\n\ndef verificaInverso(original, invertido):\n    return (original % 2) == (invertido % 2)",
      "metadata": {},
      "outputs": [],
      "execution_count": null
    },
    {
      "id": "a9514e56",
      "cell_type": "code",
      "source": "## Escreva aqui o programa principal e execute a célula\nnum = int(input(\"Digite um numero: \"))\ninvertido = inverteValor(num)\nprint(f\"Valor original: {num}\")\nprint(f\"Valor do invertido: {invertido}\")\nprint(f\"Correto? {verificaInverso(num, invertido)}\")",
      "metadata": {},
      "outputs": [],
      "execution_count": null
    },
    {
      "id": "329be966",
      "cell_type": "markdown",
      "source": "### Q5.\n\nVocê está desenvolvendo um programa para auxiliar em cálculos de geometria básica. Crie as seguintes funções:\n- A função ```calcula_perimetro_triangulo()``` que recebe três inteiros correspondentes aos lados de um triângulo e retorna o perímetro do triângulo, ou seja, a soma dos seus lados.\n- A função ```calcula_perimetro_circulo()``` que recebe um inteiro referente ao raio do círculo e retorna o perímetro do círculo, dado por $2 \\pi r$. Use a constante $\\pi$ da biblioteca ```math```.\n- A função ```calcula_perimetro_retangulo()``` que possui um parâmetro obrigatório ```lado1``` e um opcional ```lado2```, ambos inteiros. Se o valor opcional não for fornecido, significa que se trata de um quadrado. Sua função deve calcular e retornar o perímetro do retângulo, ou seja, a soma de seus lados. \n    - Para o quadrado, é dado por $4 \\times lado1$\n    - Para o retângulo é dado por $2 \\times lado1 + 2 \\times lado2$\n    \n- No programa principal apresente um menu com as opções disponíveis do seu sistema e uma quarta opção ```Sair```. Solicite ao usuário a opção desejada, solicite as entradas correspondentes à opção escolhida, invoque a respective função e apresente o seu retorno. Seu programa deve retornar ao menu até que o usuário escolha a opção ```Sair```\n\nExemplo de interação:\n```\n1 - Calcular perímetro triângulo\n2 - Calcular perímetro círculo\n3 - Calcular perímetro retângulo\n4 - Sair\n\nOpção: 1\nDigite os três lados do triângulo:\n3\n4\n5\nO perímetro é: 12\n\n1 - Calcular perímetro triângulo\n2 - Calcular perímetro círculo\n3 - Calcular perímetro retângulo\n4 - Sair\n\nOpção: 3\nInforme os dois lados do retângulo. Se for um quadrado, digite 0 para o segundo valor:\n5\n0\nO perímetro é: 20\n\n1 - Calcular perímetro triângulo\n2 - Calcular perímetro círculo\n3 - Calcular perímetro retângulo\n4 - Sair\n\nOpção: 4\n```",
      "metadata": {}
    },
    {
      "id": "0793d328",
      "cell_type": "code",
      "source": "## Crie aqui as funções \nimport math\ndef calcula_perimetro_triangulo(lado1, lado2, lado3):\n    return lado1 + lado2 + lado3\ndef calcula_perimetro_circulo(raio):\n    return 2 * math.pi * raio\ndef calcula_perimetro_retangulo(lado1, lado2=None):\n    if lado2 is None or lado2 == 0:\n        return 4 * lado1\n    else:\n        return 2 * (lado1 + lado2)\ndef mostrar_menu():\n    print(\"\\n1 - Calcular perímetro triângulo\")\n    print(\"2 - Calcular perímetro círculo\")\n    print(\"3 - Calcular perímetro retângulo/quadrado\")\n    print(\"4 - Sair\")",
      "metadata": {},
      "outputs": [],
      "execution_count": null
    },
    {
      "id": "36269c71",
      "cell_type": "code",
      "source": "## Escreva aqui o programa principal \ndef main():\n    while True:\n        mostrar_menu()\n        opcao = input(\"\\nOpção: \")\n        if opcao == '1':\n            print(\"Digite os três lados do triângulo:\")\n            l1 = float(input(\"Lado 1: \"))\n            l2 = float(input(\"Lado 2: \"))\n            l3 = float(input(\"Lado 3: \"))\n            perimetro = calcula_perimetro_triangulo(l1, l2, l3)\n            print(f\"O perímetro do triângulo é: {perimetro:.2f}\")\n        elif opcao == '2':            \n            raio = float(input(\"Digite o raio do círculo: \"))\n            perimetro = calcula_perimetro_circulo(raio)\n            print(f\"O perímetro do círculo é: {perimetro:.2f}\")\n        elif opcao == '3':\n            print(\"Informe os dois lados do retângulo. Se for um quadrado, digite 0 para o segundo valor:\")\n            l1 = float(input(\"Lado 1: \"))\n            l2 = float(input(\"Lado 2 (0 para quadrado): \"))\n            perimetro = calcula_perimetro_retangulo(l1, l2 if l2 != 0 else None)\n            print(f\"O perímetro é: {perimetro:.2f}\")\n        elif opcao == '4':\n            print(\"Saindo do programa...\")\n            break\n        else:\n            print(\"Opção inválida. Por favor, escolha uma opção de 1 a 4.\")\n            if __name__ == \"__main__\":main()",
      "metadata": {},
      "outputs": [],
      "execution_count": null
    },
    {
      "id": "3016bcc7",
      "cell_type": "markdown",
      "source": "## Funções ```lambda```",
      "metadata": {}
    },
    {
      "id": "f9cdb8dd",
      "cell_type": "markdown",
      "source": "### Q6.\n\nCrie uma função lambda para verificar se um número é par ou ímpar. Em seguida, solicite ao usuário um número indefinidos de valores (até que o usuário digite 0). Para cada valor de entrada, informe se é par ou ímpar.\n\nExemplo de interação:\n```\nDigite os valores que deseja verificar a paridade (digite 0 para finalizar a entrada de dados):\n3\nímpar\n8\npar\n12\npar\n5\nímpar\n7ímpar\n```",
      "metadata": {}
    },
    {
      "id": "e3c31a78",
      "cell_type": "code",
      "source": "verifica_paridade = lambda x: \"par\" if x % 2 == 0 else \"ímpar\"\nprint(\"Digite os valores que deseja verificar a paridade (digite 0 para finalizar a entrada de dados):\")\nwhile True:\n    entrada = input()\n    if not entrada.isdigit():\n        print(\"Por favor, digite apenas números inteiros!\")\n        continue\n    numero = int(entrada)\n    if numero == 0:\n        print(\"Entrada de dados finalizada.\")\n        break\n    print(verifica_paridade(numero))",
      "metadata": {},
      "outputs": [],
      "execution_count": null
    },
    {
      "id": "5a87474d",
      "cell_type": "markdown",
      "source": "### Q7.\n\nEscreva um programa que pergunte ao usuário qual operação ele deseja: maior ou menor.\nEm seguida leia uma quantidade indefinida de valores do usuário, até que o usuário digite o valor zero.\nApresente ao final o maior ou menor dos valores digitados de acordo com a escolha do usuário.\n\n**Sua solução deve incluir pelo menos uma função ```lambda```** \n\nExemplo de interação:\n```\nOpções: (1) maior ou (2) menor?\nOpção: 1\n\nDigite os valores de entrada. Digite 0 para finalizar a entrada de valores.\n4\n12\n15\n1\n0\n\nO maior valor é: 15\n```",
      "metadata": {}
    },
    {
      "id": "ee3f68ca",
      "cell_type": "code",
      "source": "## Escreva aqui o programa principal \nf=lambda o,a,b:a if(o=='1'and a>b)or(o=='2'and a<b)else b\nprint(\"Opções:(1)maior(2)menor?\")\no=input(\"Opção:\")\nwhile o!='1'and o!='2':\n    print(\"Opção inválida.Use 1 ou 2\")\n    o=input(\"Opção:\")\n    print(\"Digite valores(0 para parar):\")\n    r=0\n    while 1:\n        e=input()\n        if e=='0':\n            break\n        if not e.replace('.','').isdigit():\n            print(\"Números apenas!\")\n            continue\n        n=float(e)\n        r=f(o,r,n)\n        if r!=0:\n            print(\"é zero!\")\n        else:\n            print(n)\n            n\n            print(f\"O {'maior'if o=='1'else'menor'} valor é:{r}\"if r!=0 else\"Nada foi digitado\")",
      "metadata": {},
      "outputs": [],
      "execution_count": null
    }
  ]
}